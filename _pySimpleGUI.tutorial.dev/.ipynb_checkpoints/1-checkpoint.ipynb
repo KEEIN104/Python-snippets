{
 "cells": [
  {
   "cell_type": "raw",
   "metadata": {},
   "source": [
    "pip install PySimpleGUI"
   ]
  },
  {
   "cell_type": "raw",
   "metadata": {},
   "source": [
    "_sourceDir='~/ai.dev/10413Prototypes/_pySimpleGUI.tutorial'"
   ]
  },
  {
   "cell_type": "code",
   "execution_count": 5,
   "metadata": {},
   "outputs": [],
   "source": [
    "import PySimpleGUI as sg"
   ]
  },
  {
   "cell_type": "code",
   "execution_count": 6,
   "metadata": {},
   "outputs": [
    {
     "data": {
      "text/plain": [
       "'OK'"
      ]
     },
     "execution_count": 6,
     "metadata": {},
     "output_type": "execute_result"
    }
   ],
   "source": [
    "layout = [[sg.Text('My one-shot window.')],      \n",
    "                 [sg.InputText()],      \n",
    "                 [sg.Submit(), sg.Cancel()]]      \n",
    "\n",
    "window = sg.Window('Window Title', layout)    \n",
    "\n",
    "event, values = window.Read()    \n",
    "window.Close()\n",
    "\n",
    "text_input = values[0]    \n",
    "sg.Popup('You entered', text_input)"
   ]
  }
 ],
 "metadata": {
  "kernelspec": {
   "display_name": "Python [conda env:ai]",
   "language": "python",
   "name": "conda-env-ai-py"
  },
  "language_info": {
   "codemirror_mode": {
    "name": "ipython",
    "version": 3
   },
   "file_extension": ".py",
   "mimetype": "text/x-python",
   "name": "python",
   "nbconvert_exporter": "python",
   "pygments_lexer": "ipython3",
   "version": "3.7.3"
  }
 },
 "nbformat": 4,
 "nbformat_minor": 2
}
