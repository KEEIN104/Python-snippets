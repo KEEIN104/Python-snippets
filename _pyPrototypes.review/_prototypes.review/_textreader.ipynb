{
 "cells": [
  {
   "cell_type": "markdown",
   "metadata": {},
   "source": [
    "# # Text reader"
   ]
  },
  {
   "cell_type": "code",
   "execution_count": 12,
   "metadata": {},
   "outputs": [
    {
     "name": "stdout",
     "output_type": "stream",
     "text": [
      "I am a programmable textReader...\n",
      "Powered by:\n",
      " \t .. \n",
      "\t ..\n",
      "\n",
      " (cite: Siraj Raval Youtube)\n"
     ]
    }
   ],
   "source": [
    "print(\"I am a programmable textReader...\")\n",
    "print(\"Powered by:\\n \\t .. \\n\\t ..\")\n",
    "print(\"\\n (cite: Siraj Raval Youtube)\")"
   ]
  },
  {
   "cell_type": "code",
   "execution_count": null,
   "metadata": {},
   "outputs": [],
   "source": []
  }
 ],
 "metadata": {
  "kernelspec": {
   "display_name": "Python [conda env:ai]",
   "language": "python",
   "name": "conda-env-ai-py"
  },
  "language_info": {
   "codemirror_mode": {
    "name": "ipython",
    "version": 3
   },
   "file_extension": ".py",
   "mimetype": "text/x-python",
   "name": "python",
   "nbconvert_exporter": "python",
   "pygments_lexer": "ipython3",
   "version": "3.7.3"
  }
 },
 "nbformat": 4,
 "nbformat_minor": 2
}
