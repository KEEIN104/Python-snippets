{
 "cells": [
  {
   "cell_type": "code",
   "execution_count": 10,
   "metadata": {},
   "outputs": [
    {
     "name": "stdout",
     "output_type": "stream",
     "text": [
      "Now:  2019-07-27 01:55:27.455461\n",
      "Date entered:  1990-04-01 00:00:00\n"
     ]
    }
   ],
   "source": [
    "#https://stackoverflow.com/questions/13943062/extract-day-of-year-and-julian-day-from-a-string-date\n",
    "#https://docs.python.org/3.5/library/datetime.html\n",
    "\n",
    "import datetime\n",
    "Present = datetime.datetime.today()\n",
    "print(\"Now: \", Present)\n",
    "\n",
    "fmt = '%d-%m-%Y'\n",
    "dstring = '01-04-1990'\n",
    "dt = datetime.datetime.strptime(dstring, fmt)\n",
    "print(\"Date entered: \", dt)\n"
   ]
  }
 ],
 "metadata": {
  "kernelspec": {
   "display_name": "Python [conda env:ai]",
   "language": "python",
   "name": "conda-env-ai-py"
  },
  "language_info": {
   "codemirror_mode": {
    "name": "ipython",
    "version": 3
   },
   "file_extension": ".py",
   "mimetype": "text/x-python",
   "name": "python",
   "nbconvert_exporter": "python",
   "pygments_lexer": "ipython3",
   "version": "3.7.3"
  }
 },
 "nbformat": 4,
 "nbformat_minor": 2
}
