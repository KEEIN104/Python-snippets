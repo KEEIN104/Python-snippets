{
 "cells": [
  {
   "cell_type": "code",
   "execution_count": null,
   "metadata": {},
   "outputs": [],
   "source": []
  },
  {
   "cell_type": "code",
   "execution_count": null,
   "metadata": {},
   "outputs": [],
   "source": [
    "#annoying while loop\n",
    "print('Demo 1')\n",
    "name=''\n",
    "while name != 'kishore':\n",
    "    print('Please type your name.')\n",
    "    name = input()\n",
    "print('Thank you!')\n",
    "\n",
    "print('\\n\\nDemo2::break satement')\n",
    "while True:\n",
    "    print('Please type your name')\n",
    "    name = input()\n",
    "    if name =='kishore':\n",
    "        break\n",
    "print('Thank You!!')    \n",
    "\n",
    "print('See infinite loop demo?')\n",
    "userInput = input()\n",
    "if userInput == 'y' or 'Y':\n",
    "    while True:\n",
    "        print('hello infinite world!')\n"
   ]
  }
 ],
 "metadata": {
  "kernelspec": {
   "display_name": "Python [conda env:ai]",
   "language": "python",
   "name": "conda-env-ai-py"
  },
  "language_info": {
   "codemirror_mode": {
    "name": "ipython",
    "version": 3
   },
   "file_extension": ".py",
   "mimetype": "text/x-python",
   "name": "python",
   "nbconvert_exporter": "python",
   "pygments_lexer": "ipython3",
   "version": "3.7.3"
  }
 },
 "nbformat": 4,
 "nbformat_minor": 2
}
